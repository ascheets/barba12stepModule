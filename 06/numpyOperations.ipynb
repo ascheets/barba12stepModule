{
 "cells": [
  {
   "cell_type": "code",
   "execution_count": 1,
   "metadata": {
    "autoscroll": "json-false",
    "collapsed": false,
    "ein.tags": [
     "worksheet-0"
    ]
   },
   "outputs": [],
   "source": [
    "import numpy as np"
   ]
  },
  {
   "cell_type": "code",
   "execution_count": 2,
   "metadata": {
    "autoscroll": "json-false",
    "collapsed": false,
    "ein.tags": [
     "worksheet-0"
    ]
   },
   "outputs": [
    {
     "name": "stdout",
     "output_type": "stream",
     "text": [
      "1\n",
      "1\n",
      "1\n",
      "1\n",
      "1\n"
     ]
    }
   ],
   "source": [
    "u = np.array((0,1,2,3,4,5))\n",
    "\n",
    "for i in range(1,len(u)):\n",
    "    print u[i]-u[i-1]"
   ]
  },
  {
   "cell_type": "code",
   "execution_count": 3,
   "metadata": {
    "autoscroll": "json-false",
    "collapsed": false,
    "ein.tags": [
     "worksheet-0"
    ]
   },
   "outputs": [
    {
     "data": {
      "text/plain": [
       "array([1, 1, 1, 1, 1])"
      ]
     },
     "execution_count": 3,
     "metadata": {},
     "output_type": "execute_result"
    }
   ],
   "source": [
    "u[1:]-u[0:-1]"
   ]
  },
  {
   "cell_type": "code",
   "execution_count": null,
   "metadata": {
    "autoscroll": "json-false",
    "collapsed": false,
    "ein.tags": [
     "worksheet-0"
    ]
   },
   "outputs": [],
   "source": [
    "nx = 81\n",
    "ny = 81\n",
    "nt = 100\n",
    "c = 1\n",
    "dx = 2.0/(nx-1)\n",
    "dy = 2.0/(ny-1)\n",
    "sigma = .2\n",
    "dt = sigma*dx\n",
    "\n",
    "x = np.linspace(0,2,nx)\n",
    "y = np.linspace(0,2,ny)\n",
    "\n",
    "u = np.ones((ny,nx)) #create a 1xn vector of 1's\n",
    "un = np.ones((ny,nx))\n",
    "\n",
    "#assign initial conditions\n",
    "u[0.5/dy:1/dy+1,0.5/dx:1/dx+1] = 2\n",
    "\n",
    "#advancing in time\n",
    "for n in range(nt+1): \n",
    "    un = u.copy()\n",
    "    u[1:,1:] = (un[1:,1:] - (c*dt/dx*(un[1:,1:]-un[1:,0:-1])) \n",
    "\t\t- (c*dt/dy*(un[1:,1:]-un[0:-1,1:])))\n",
    "    u[0,:] = 1\n",
    "    u[-1,:] = 1\n",
    "    u[:,0] = 1\n",
    "    u[:,-1] = 1\n",
    "\t\t\n"
   ]
  }
 ],
 "metadata": {},
 "nbformat": 4,
 "nbformat_minor": 0
}
